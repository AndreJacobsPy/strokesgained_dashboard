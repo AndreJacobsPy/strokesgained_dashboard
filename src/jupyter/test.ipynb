{
 "cells": [
  {
   "cell_type": "code",
   "execution_count": 2,
   "metadata": {},
   "outputs": [],
   "source": [
    "import pandas as pd\n",
    "import requests, json"
   ]
  },
  {
   "cell_type": "code",
   "execution_count": 3,
   "metadata": {},
   "outputs": [],
   "source": [
    "def load_data() -> pd.DataFrame:\n",
    "    req = requests.get(\"http://localhost:8000/api/strokesgained-detail-api/\")\n",
    "    raw_data = json.loads(req.text)\n",
    "    df = pd.DataFrame(raw_data)\n",
    "\n",
    "    return df\n",
    "\n",
    "\n",
    "def barchart_preprocessing(df: pd.DataFrame):\n",
    "    # fixing the dtypes of the strokes gained columns\n",
    "    sg_cols: list[str] = [i for i in df.columns if \"sg\" in i]\n",
    "    for col in sg_cols:\n",
    "        df[col] = df[col].astype(\"float\")\n",
    "\n",
    "    return df.groupby(\"name\")[sg_cols].mean()"
   ]
  },
  {
   "cell_type": "code",
   "execution_count": 23,
   "metadata": {},
   "outputs": [
    {
     "data": {
      "text/html": [
       "<div>\n",
       "<style scoped>\n",
       "    .dataframe tbody tr th:only-of-type {\n",
       "        vertical-align: middle;\n",
       "    }\n",
       "\n",
       "    .dataframe tbody tr th {\n",
       "        vertical-align: top;\n",
       "    }\n",
       "\n",
       "    .dataframe thead th {\n",
       "        text-align: right;\n",
       "    }\n",
       "</style>\n",
       "<table border=\"1\" class=\"dataframe\">\n",
       "  <thead>\n",
       "    <tr style=\"text-align: right;\">\n",
       "      <th></th>\n",
       "      <th>id</th>\n",
       "      <th>tournament</th>\n",
       "      <th>round</th>\n",
       "      <th>name</th>\n",
       "      <th>total</th>\n",
       "      <th>round_score</th>\n",
       "      <th>sg_putt</th>\n",
       "      <th>sg_arg</th>\n",
       "      <th>sg_app</th>\n",
       "      <th>sg_ott</th>\n",
       "      <th>sg_t2g</th>\n",
       "      <th>sg_total</th>\n",
       "    </tr>\n",
       "  </thead>\n",
       "  <tbody>\n",
       "    <tr>\n",
       "      <th>0</th>\n",
       "      <td>1</td>\n",
       "      <td>1</td>\n",
       "      <td>1</td>\n",
       "      <td>Wyndham Clark</td>\n",
       "      <td>-10</td>\n",
       "      <td>0.0</td>\n",
       "      <td>1.79</td>\n",
       "      <td>1.20</td>\n",
       "      <td>-0.14</td>\n",
       "      <td>1.41</td>\n",
       "      <td>2.47</td>\n",
       "      <td>4.26</td>\n",
       "    </tr>\n",
       "    <tr>\n",
       "      <th>1</th>\n",
       "      <td>2</td>\n",
       "      <td>1</td>\n",
       "      <td>1</td>\n",
       "      <td>Rory Mcilroy</td>\n",
       "      <td>-9</td>\n",
       "      <td>0.0</td>\n",
       "      <td>0.40</td>\n",
       "      <td>0.27</td>\n",
       "      <td>1.21</td>\n",
       "      <td>2.13</td>\n",
       "      <td>3.61</td>\n",
       "      <td>4.01</td>\n",
       "    </tr>\n",
       "    <tr>\n",
       "      <th>2</th>\n",
       "      <td>3</td>\n",
       "      <td>1</td>\n",
       "      <td>1</td>\n",
       "      <td>Scottie Scheffler</td>\n",
       "      <td>-7</td>\n",
       "      <td>0.0</td>\n",
       "      <td>0.29</td>\n",
       "      <td>0.56</td>\n",
       "      <td>1.62</td>\n",
       "      <td>1.04</td>\n",
       "      <td>3.22</td>\n",
       "      <td>3.51</td>\n",
       "    </tr>\n",
       "    <tr>\n",
       "      <th>3</th>\n",
       "      <td>4</td>\n",
       "      <td>1</td>\n",
       "      <td>1</td>\n",
       "      <td>Cameron Smith</td>\n",
       "      <td>-6</td>\n",
       "      <td>-3.0</td>\n",
       "      <td>1.96</td>\n",
       "      <td>-0.04</td>\n",
       "      <td>1.12</td>\n",
       "      <td>0.23</td>\n",
       "      <td>1.30</td>\n",
       "      <td>3.26</td>\n",
       "    </tr>\n",
       "    <tr>\n",
       "      <th>4</th>\n",
       "      <td>5</td>\n",
       "      <td>1</td>\n",
       "      <td>1</td>\n",
       "      <td>Tommy Fleetwood</td>\n",
       "      <td>-5</td>\n",
       "      <td>-7.0</td>\n",
       "      <td>-0.29</td>\n",
       "      <td>0.59</td>\n",
       "      <td>1.80</td>\n",
       "      <td>0.92</td>\n",
       "      <td>3.30</td>\n",
       "      <td>3.01</td>\n",
       "    </tr>\n",
       "  </tbody>\n",
       "</table>\n",
       "</div>"
      ],
      "text/plain": [
       "   id  tournament  round               name  total  round_score  sg_putt  \\\n",
       "0   1           1      1      Wyndham Clark    -10          0.0     1.79   \n",
       "1   2           1      1       Rory Mcilroy     -9          0.0     0.40   \n",
       "2   3           1      1  Scottie Scheffler     -7          0.0     0.29   \n",
       "3   4           1      1      Cameron Smith     -6         -3.0     1.96   \n",
       "4   5           1      1    Tommy Fleetwood     -5         -7.0    -0.29   \n",
       "\n",
       "   sg_arg  sg_app  sg_ott  sg_t2g  sg_total  \n",
       "0    1.20   -0.14    1.41    2.47      4.26  \n",
       "1    0.27    1.21    2.13    3.61      4.01  \n",
       "2    0.56    1.62    1.04    3.22      3.51  \n",
       "3   -0.04    1.12    0.23    1.30      3.26  \n",
       "4    0.59    1.80    0.92    3.30      3.01  "
      ]
     },
     "execution_count": 23,
     "metadata": {},
     "output_type": "execute_result"
    }
   ],
   "source": [
    "df = load_data()\n",
    "barchart_preprocessing(df)\n",
    "df.head()"
   ]
  },
  {
   "cell_type": "code",
   "execution_count": 24,
   "metadata": {},
   "outputs": [],
   "source": [
    "player = \"Aaron Baddeley\"\n",
    "sg_cols = [col for col in df.columns if \"sg\" in col]\n",
    "ab = df.query(\"name == '{}'\".format(player))"
   ]
  },
  {
   "cell_type": "code",
   "execution_count": 28,
   "metadata": {},
   "outputs": [
    {
     "data": {
      "text/plain": [
       "<Axes: xlabel='round'>"
      ]
     },
     "execution_count": 28,
     "metadata": {},
     "output_type": "execute_result"
    },
    {
     "data": {
      "image/png": "[encoded data removed]",
      "text/plain": [
       "<Figure size 640x480 with 1 Axes>"
      ]
     },
     "metadata": {},
     "output_type": "display_data"
    }
   ],
   "source": [
    "ab.groupby(\"round\")[\"sg_total\"].mean()"
   ]
  },
  {
   "cell_type": "code",
   "execution_count": null,
   "metadata": {},
   "outputs": [],
   "source": []
  }
 ],
 "metadata": {
  "kernelspec": {
   "display_name": "django-dev",
   "language": "python",
   "name": "python3"
  },
  "language_info": {
   "codemirror_mode": {
    "name": "ipython",
    "version": 3
   },
   "file_extension": ".py",
   "mimetype": "text/x-python",
   "name": "python",
   "nbconvert_exporter": "python",
   "pygments_lexer": "ipython3",
   "version": "3.12.0"
  }
 },
 "nbformat": 4,
 "nbformat_minor": 2
}
