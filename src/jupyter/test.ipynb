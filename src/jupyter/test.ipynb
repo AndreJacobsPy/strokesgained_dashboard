{
 "cells": [
  {
   "cell_type": "code",
   "execution_count": 1,
   "metadata": {},
   "outputs": [],
   "source": [
    "import pandas as pd\n",
    "import requests, json"
   ]
  },
  {
   "cell_type": "code",
   "execution_count": 5,
   "metadata": {},
   "outputs": [],
   "source": [
    "def load_data() -> pd.DataFrame:\n",
    "    req = requests.get(\"http://localhost:8000/api/strokesgained-detail-api/\")\n",
    "    raw_data = json.loads(req.text)\n",
    "    df = pd.DataFrame(raw_data)\n",
    "\n",
    "    return df\n",
    "\n",
    "\n",
    "def barchart_preprocessing(df: pd.DataFrame):\n",
    "    # fixing the dtypes of the strokes gained columns\n",
    "    sg_cols: list[str] = [i for i in df.columns if \"sg\" in i]\n",
    "    for col in sg_cols:\n",
    "        df[col] = df[col].astype(\"float\")\n",
    "\n",
    "    return df.groupby(\"name\")[sg_cols].mean()"
   ]
  },
  {
   "cell_type": "code",
   "execution_count": 9,
   "metadata": {},
   "outputs": [
    {
     "data": {
      "text/html": [
       "<div>\n",
       "<style scoped>\n",
       "    .dataframe tbody tr th:only-of-type {\n",
       "        vertical-align: middle;\n",
       "    }\n",
       "\n",
       "    .dataframe tbody tr th {\n",
       "        vertical-align: top;\n",
       "    }\n",
       "\n",
       "    .dataframe thead th {\n",
       "        text-align: right;\n",
       "    }\n",
       "</style>\n",
       "<table border=\"1\" class=\"dataframe\">\n",
       "  <thead>\n",
       "    <tr style=\"text-align: right;\">\n",
       "      <th></th>\n",
       "      <th>sg_putt</th>\n",
       "      <th>sg_arg</th>\n",
       "      <th>sg_app</th>\n",
       "      <th>sg_ott</th>\n",
       "      <th>sg_t2g</th>\n",
       "      <th>sg_total</th>\n",
       "    </tr>\n",
       "    <tr>\n",
       "      <th>name</th>\n",
       "      <th></th>\n",
       "      <th></th>\n",
       "      <th></th>\n",
       "      <th></th>\n",
       "      <th></th>\n",
       "      <th></th>\n",
       "    </tr>\n",
       "  </thead>\n",
       "  <tbody>\n",
       "    <tr>\n",
       "      <th>Aaron Baddeley</th>\n",
       "      <td>0.176667</td>\n",
       "      <td>-0.173333</td>\n",
       "      <td>-1.64</td>\n",
       "      <td>-0.296667</td>\n",
       "      <td>-2.11</td>\n",
       "      <td>-1.933333</td>\n",
       "    </tr>\n",
       "  </tbody>\n",
       "</table>\n",
       "</div>"
      ],
      "text/plain": [
       "                 sg_putt    sg_arg  sg_app    sg_ott  sg_t2g  sg_total\n",
       "name                                                                  \n",
       "Aaron Baddeley  0.176667 -0.173333   -1.64 -0.296667   -2.11 -1.933333"
      ]
     },
     "execution_count": 9,
     "metadata": {},
     "output_type": "execute_result"
    }
   ],
   "source": [
    "df = load_data()\n",
    "grouped = barchart_preprocessing(df)\n",
    "grouped.iloc[[0], :]"
   ]
  },
  {
   "cell_type": "code",
   "execution_count": 21,
   "metadata": {},
   "outputs": [
    {
     "data": {
      "text/html": [
       "<div>\n",
       "<style scoped>\n",
       "    .dataframe tbody tr th:only-of-type {\n",
       "        vertical-align: middle;\n",
       "    }\n",
       "\n",
       "    .dataframe tbody tr th {\n",
       "        vertical-align: top;\n",
       "    }\n",
       "\n",
       "    .dataframe thead th {\n",
       "        text-align: right;\n",
       "    }\n",
       "</style>\n",
       "<table border=\"1\" class=\"dataframe\">\n",
       "  <thead>\n",
       "    <tr style=\"text-align: right;\">\n",
       "      <th></th>\n",
       "      <th>sg_putt</th>\n",
       "      <th>sg_arg</th>\n",
       "      <th>sg_app</th>\n",
       "      <th>sg_ott</th>\n",
       "      <th>sg_t2g</th>\n",
       "      <th>sg_total</th>\n",
       "    </tr>\n",
       "  </thead>\n",
       "  <tbody>\n",
       "    <tr>\n",
       "      <th>Aaron Baddeley</th>\n",
       "      <td>0.176667</td>\n",
       "      <td>-0.173333</td>\n",
       "      <td>-1.640000</td>\n",
       "      <td>-0.296667</td>\n",
       "      <td>-2.110000</td>\n",
       "      <td>-1.933333</td>\n",
       "    </tr>\n",
       "    <tr>\n",
       "      <th>Field</th>\n",
       "      <td>-0.211036</td>\n",
       "      <td>-0.147247</td>\n",
       "      <td>-0.246717</td>\n",
       "      <td>-0.166122</td>\n",
       "      <td>-0.559789</td>\n",
       "      <td>-0.770419</td>\n",
       "    </tr>\n",
       "  </tbody>\n",
       "</table>\n",
       "</div>"
      ],
      "text/plain": [
       "                 sg_putt    sg_arg    sg_app    sg_ott    sg_t2g  sg_total\n",
       "Aaron Baddeley  0.176667 -0.173333 -1.640000 -0.296667 -2.110000 -1.933333\n",
       "Field          -0.211036 -0.147247 -0.246717 -0.166122 -0.559789 -0.770419"
      ]
     },
     "execution_count": 21,
     "metadata": {},
     "output_type": "execute_result"
    }
   ],
   "source": [
    "field = pd.DataFrame(grouped.mean()).T\n",
    "field.index = pd.Index([\"Field\"])\n",
    "pd.concat([grouped.iloc[[0], :], field])"
   ]
  },
  {
   "cell_type": "code",
   "execution_count": 19,
   "metadata": {},
   "outputs": [
    {
     "data": {
      "text/html": [
       "<div>\n",
       "<style scoped>\n",
       "    .dataframe tbody tr th:only-of-type {\n",
       "        vertical-align: middle;\n",
       "    }\n",
       "\n",
       "    .dataframe tbody tr th {\n",
       "        vertical-align: top;\n",
       "    }\n",
       "\n",
       "    .dataframe thead th {\n",
       "        text-align: right;\n",
       "    }\n",
       "</style>\n",
       "<table border=\"1\" class=\"dataframe\">\n",
       "  <thead>\n",
       "    <tr style=\"text-align: right;\">\n",
       "      <th></th>\n",
       "      <th>sg_putt</th>\n",
       "      <th>sg_arg</th>\n",
       "      <th>sg_app</th>\n",
       "      <th>sg_ott</th>\n",
       "      <th>sg_t2g</th>\n",
       "      <th>sg_total</th>\n",
       "    </tr>\n",
       "  </thead>\n",
       "  <tbody>\n",
       "    <tr>\n",
       "      <th>field</th>\n",
       "      <td>-0.211036</td>\n",
       "      <td>-0.147247</td>\n",
       "      <td>-0.246717</td>\n",
       "      <td>-0.166122</td>\n",
       "      <td>-0.559789</td>\n",
       "      <td>-0.770419</td>\n",
       "    </tr>\n",
       "  </tbody>\n",
       "</table>\n",
       "</div>"
      ],
      "text/plain": [
       "        sg_putt    sg_arg    sg_app    sg_ott    sg_t2g  sg_total\n",
       "field -0.211036 -0.147247 -0.246717 -0.166122 -0.559789 -0.770419"
      ]
     },
     "execution_count": 19,
     "metadata": {},
     "output_type": "execute_result"
    }
   ],
   "source": [
    "field.index = pd.Index([\"field\"])\n",
    "field"
   ]
  },
  {
   "cell_type": "code",
   "execution_count": null,
   "metadata": {},
   "outputs": [],
   "source": []
  }
 ],
 "metadata": {
  "kernelspec": {
   "display_name": "django-dev",
   "language": "python",
   "name": "python3"
  },
  "language_info": {
   "codemirror_mode": {
    "name": "ipython",
    "version": 3
   },
   "file_extension": ".py",
   "mimetype": "text/x-python",
   "name": "python",
   "nbconvert_exporter": "python",
   "pygments_lexer": "ipython3",
   "version": "3.12.0"
  }
 },
 "nbformat": 4,
 "nbformat_minor": 2
}
